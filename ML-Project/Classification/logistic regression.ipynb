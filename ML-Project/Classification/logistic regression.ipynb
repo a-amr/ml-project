{
 "cells": [
  {
   "cell_type": "code",
   "execution_count": 3,
   "metadata": {},
   "outputs": [],
   "source": [
    "import pandas as pd\n",
    "import numpy as np\n",
    "from sklearn.linear_model import LogisticRegression\n",
    "from sklearn.metrics import classification_report,accuracy_score\n",
    "from PIL import Image\n",
    "import os"
   ]
  },
  {
   "cell_type": "code",
   "execution_count": 32,
   "metadata": {},
   "outputs": [
    {
     "name": "stdout",
     "output_type": "stream",
     "text": [
      "Accuracy on Test Set: 0.6551724137931034\n",
      "Accuracy on Training Set: 0.9702380952380952\n"
     ]
    }
   ],
   "source": [
    "base_path = os.getcwd()\n",
    "\n",
    "training_dataset_path = os.path.join(base_path, 'BelgiumTSC_Training/Training')\n",
    "testing_dataset_path = os.path.join(base_path, 'BelgiumTSC_Testing/Testing')\n",
    "\n",
    "class_folders_train = [f.path for f in os.scandir(training_dataset_path) if f.is_dir()]\n",
    "selected_classes_train = class_folders_train[:5]\n",
    "\n",
    "class_folders_test = [f.path for f in os.scandir(testing_dataset_path) if f.is_dir()]\n",
    "selected_classes_test = class_folders_test[:5]\n",
    "\n",
    "features_list_train = []\n",
    "labels_list_train = []\n",
    "\n",
    "trcounter=0\n",
    "tscounter=0\n",
    "\n",
    "for class_folder in selected_classes_train:\n",
    "    class_label = int(os.path.basename(class_folder))\n",
    "    image_paths = [f.path for f in os.scandir(class_folder) if f.is_file() and f.name.endswith('.ppm')]\n",
    "    for image_path in image_paths:\n",
    "        image = Image.open(image_path).convert('RGB')\n",
    "        image = image.resize((40, 40))\n",
    "        image = np.array(image).flatten() / 255.0\n",
    "        features_list_train.append(image)\n",
    "        labels_list_train.append(class_label)\n",
    "\n",
    "features_list_test = []\n",
    "labels_list_test = []\n",
    "\n",
    "for class_folder in selected_classes_test:\n",
    "    class_label = int(os.path.basename(class_folder))\n",
    "    image_paths = [f.path for f in os.scandir(class_folder) if f.is_file() and f.name.endswith('.ppm')]\n",
    "    for image_path in image_paths:\n",
    "        image = Image.open(image_path).convert('RGB')\n",
    "        image = image.resize((40, 40))\n",
    "        image = np.array(image).flatten() / 255.0\n",
    "        features_list_test.append(image)\n",
    "        labels_list_test.append(class_label)\n",
    "\n",
    "\n",
    "X_train = np.array(features_list_train)\n",
    "y_train = np.array(labels_list_train)\n",
    "X_test = np.array(features_list_test)\n",
    "y_test = np.array(labels_list_test)\n",
    "\n",
    "model = LogisticRegression(multi_class='auto',max_iter=1000,C=0.01)\n",
    "model.fit(X_train, y_train)\n",
    "\n",
    "y_pred = model.predict(X_test)\n",
    "\n",
    "accuracy = accuracy_score(y_test, y_pred)\n",
    "print(f\"Accuracy on Test Set: {accuracy}\")\n",
    "\n",
    "# Predictions on the training set\n",
    "y_train_pred = model.predict(X_train)\n",
    "\n",
    "# Accuracy on the training set\n",
    "accuracy_train = accuracy_score(y_train, y_train_pred)\n",
    "print(f\"Accuracy on Training Set: {accuracy_train}\")"
   ]
  },
  {
   "cell_type": "code",
   "execution_count": null,
   "metadata": {},
   "outputs": [],
   "source": []
  },
  {
   "cell_type": "code",
   "execution_count": null,
   "metadata": {},
   "outputs": [],
   "source": []
  },
  {
   "cell_type": "code",
   "execution_count": null,
   "metadata": {},
   "outputs": [],
   "source": []
  }
 ],
 "metadata": {
  "kernelspec": {
   "display_name": "Python 3",
   "language": "python",
   "name": "python3"
  },
  "language_info": {
   "codemirror_mode": {
    "name": "ipython",
    "version": 3
   },
   "file_extension": ".py",
   "mimetype": "text/x-python",
   "name": "python",
   "nbconvert_exporter": "python",
   "pygments_lexer": "ipython3",
   "version": "3.11.7"
  }
 },
 "nbformat": 4,
 "nbformat_minor": 2
}
